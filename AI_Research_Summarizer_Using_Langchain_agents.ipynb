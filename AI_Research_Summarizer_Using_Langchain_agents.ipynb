{
  "nbformat": 4,
  "nbformat_minor": 0,
  "metadata": {
    "colab": {
      "provenance": []
    },
    "kernelspec": {
      "name": "python3",
      "display_name": "Python 3"
    },
    "language_info": {
      "name": "python"
    }
  },
  "cells": [
    {
      "cell_type": "code",
      "execution_count": null,
      "metadata": {
        "id": "mgiwallhS430"
      },
      "outputs": [],
      "source": [
        "!pip install langchain langchain_community openai arxiv chromadb faiss-cpu python-dotenv"
      ]
    },
    {
      "cell_type": "code",
      "source": [
        "from langchain.tools import Tool\n",
        "import arxiv\n",
        "import os\n",
        "from google.colab import userdata\n",
        "os.environ['OPENAI_API_KEY']=userdata.get('OPENAI_API_KEY')"
      ],
      "metadata": {
        "id": "DEGKHQNBvTVt"
      },
      "execution_count": null,
      "outputs": []
    },
    {
      "cell_type": "code",
      "source": [
        "def search_arxiv(query: str):\n",
        "  results=arxiv.Search(query=query,max_results=3).results()\n",
        "  return \"\\n\\n\".join([f\"{r.title}\\n{r.summary}\" for r in results])"
      ],
      "metadata": {
        "id": "SvGGJT6gvXj6"
      },
      "execution_count": null,
      "outputs": []
    },
    {
      "cell_type": "code",
      "source": [
        "arxiv_tool=Tool(\n",
        "    name='ArxivSearch',\n",
        "    func=search_arxiv,\n",
        "    description='Search and summarize research papers from arxiv'\n",
        ")"
      ],
      "metadata": {
        "id": "1KLKT_jxv26U"
      },
      "execution_count": null,
      "outputs": []
    },
    {
      "cell_type": "code",
      "source": [
        "from langchain.agents import initialize_agent\n",
        "from langchain.chat_models import ChatOpenAI\n",
        "from langchain.agents.agent_types import AgentType\n",
        "from langchain.memory import ConversationBufferMemory"
      ],
      "metadata": {
        "id": "TfFAQnPWwCGp"
      },
      "execution_count": null,
      "outputs": []
    },
    {
      "cell_type": "code",
      "source": [
        "llm=ChatOpenAI(temperature=0,model='gpt-4')\n",
        "memory=ConversationBufferMemory(memory_key=\"chat_history\",return_messages=True)\n",
        "agent=initialize_agent(\n",
        "    tools=[arxiv_tool],\n",
        "    llm=llm,\n",
        "    agent=AgentType.ZERO_SHOT_REACT_DESCRIPTION,\n",
        "    verbose=True,\n",
        "    memory=memory\n",
        ")"
      ],
      "metadata": {
        "id": "a61B7sFUwU7F"
      },
      "execution_count": null,
      "outputs": []
    },
    {
      "cell_type": "code",
      "source": [
        "agent.run(\"Find 3 recent papers on quantum computing and explain them to me like I'm 15.\")"
      ],
      "metadata": {
        "colab": {
          "base_uri": "https://localhost:8080/",
          "height": 958
        },
        "id": "gprSD-_UwzLt",
        "outputId": "e637ba7d-3210-445d-b34e-ddc5e24ec57c"
      },
      "execution_count": null,
      "outputs": [
        {
          "output_type": "stream",
          "name": "stdout",
          "text": [
            "\n",
            "\n",
            "\u001b[1m> Entering new AgentExecutor chain...\u001b[0m\n",
            "\u001b[32;1m\u001b[1;3mI need to search for recent papers on quantum computing and then summarize them in a simple and understandable way.\n",
            "Action: ArxivSearch\n",
            "Action Input: \"recent quantum computing\"\u001b[0m\n",
            "Observation: \u001b[36;1m\u001b[1;3mQuantum computer: an appliance for playing market games\n",
            "Recent development in quantum computation and quantum information theory\n",
            "allows to extend the scope of game theory for the quantum world. The authors\n",
            "have recently proposed a quantum description of financial market in terms of\n",
            "quantum game theory. The paper contain an analysis of such markets that shows\n",
            "that there would be advantage in using quantum computers and quantum\n",
            "strategies.\n",
            "\n",
            "From Distributed Quantum Computing to Quantum Internet Computing: an Overview\n",
            "The possibility of quantum computing has been proposed decades ago, at least\n",
            "as far back as the 1980s, and distributed quantum computing has been studied\n",
            "around two decades ago. Recent times have seen experimental successes and\n",
            "advances in quantum computer hardware and in quantum networking, leading\n",
            "towards the quantum Internet. We provide in this paper an overview of concepts\n",
            "and ideas in distributed quantum computing since over two decades ago as well\n",
            "as look at recent efforts in the area, and consider how, with the development\n",
            "of the quantum Internet, distributed quantum computing is evolving into quantum\n",
            "Internet computing.\n",
            "\n",
            "A Note on Bulk Quantum Turing Machine\n",
            "Recently, among experiments for realization of quantum computers, NMR quantum\n",
            "computers have achieved the most impressive succession. There is a model of the\n",
            "NMR quantum computation,namely Atsumi and Nishino's bulk quantum Turing\n",
            "Machine. It assumes, however, an unnatural assumption with quantum mechanics.\n",
            "We, then, define a more natural and quantum mechanically realizable modified\n",
            "bulk quantum Turing Machine, and show its computational ability by comparing\n",
            "complexity classes with quantum Turing Machine's counter part.\u001b[0m\n",
            "Thought:"
          ]
        },
        {
          "output_type": "stream",
          "name": "stderr",
          "text": [
            "/tmp/ipython-input-3-1550821245.py:2: DeprecationWarning: The 'Search.results' method is deprecated, use 'Client.results' instead\n",
            "  results=arxiv.Search(query=query,max_results=3).results()\n"
          ]
        },
        {
          "output_type": "stream",
          "name": "stdout",
          "text": [
            "\u001b[32;1m\u001b[1;3mI have found three recent papers on quantum computing. Now I need to summarize them in a simple way.\n",
            "\n",
            "Final Answer: \n",
            "\n",
            "1. \"Quantum computer: an appliance for playing market games\" - This paper talks about how quantum computers can be used in financial markets. Just like how we play video games, these computers can play \"market games\". They can make decisions and strategies that could be better than what we can do now.\n",
            "\n",
            "2. \"From Distributed Quantum Computing to Quantum Internet Computing: an Overview\" - This paper is about how quantum computers are not just single machines, but can be connected together, like computers on the internet. This is called distributed quantum computing. The paper also talks about the progress in this field and how it's leading to something called the \"quantum Internet\".\n",
            "\n",
            "3. \"A Note on Bulk Quantum Turing Machine\" - This paper discusses a specific type of quantum computer called a \"bulk quantum Turing machine\". It's like a normal computer, but it uses quantum mechanics, the science of really small particles, to do its calculations. The paper talks about how this machine can be made more natural and realistic.\u001b[0m\n",
            "\n",
            "\u001b[1m> Finished chain.\u001b[0m\n"
          ]
        },
        {
          "output_type": "execute_result",
          "data": {
            "text/plain": [
              "'1. \"Quantum computer: an appliance for playing market games\" - This paper talks about how quantum computers can be used in financial markets. Just like how we play video games, these computers can play \"market games\". They can make decisions and strategies that could be better than what we can do now.\\n\\n2. \"From Distributed Quantum Computing to Quantum Internet Computing: an Overview\" - This paper is about how quantum computers are not just single machines, but can be connected together, like computers on the internet. This is called distributed quantum computing. The paper also talks about the progress in this field and how it\\'s leading to something called the \"quantum Internet\".\\n\\n3. \"A Note on Bulk Quantum Turing Machine\" - This paper discusses a specific type of quantum computer called a \"bulk quantum Turing machine\". It\\'s like a normal computer, but it uses quantum mechanics, the science of really small particles, to do its calculations. The paper talks about how this machine can be made more natural and realistic.'"
            ],
            "application/vnd.google.colaboratory.intrinsic+json": {
              "type": "string"
            }
          },
          "metadata": {},
          "execution_count": 18
        }
      ]
    },
    {
      "cell_type": "code",
      "source": [
        "agent.run(\"What did I ask?\")"
      ],
      "metadata": {
        "colab": {
          "base_uri": "https://localhost:8080/",
          "height": 157
        },
        "id": "hVClLCL06fJS",
        "outputId": "415aacff-a2c9-466d-e61a-fb5c14da57ed"
      },
      "execution_count": null,
      "outputs": [
        {
          "output_type": "stream",
          "name": "stdout",
          "text": [
            "\n",
            "\n",
            "\u001b[1m> Entering new AgentExecutor chain...\u001b[0m\n",
            "\u001b[32;1m\u001b[1;3mThe question asked for the process of answering a question using the tools provided, specifically ArxivSearch.\n",
            "Final Answer: You asked for the process of answering a question using the tools provided, specifically ArxivSearch.\u001b[0m\n",
            "\n",
            "\u001b[1m> Finished chain.\u001b[0m\n"
          ]
        },
        {
          "output_type": "execute_result",
          "data": {
            "text/plain": [
              "'You asked for the process of answering a question using the tools provided, specifically ArxivSearch.'"
            ],
            "application/vnd.google.colaboratory.intrinsic+json": {
              "type": "string"
            }
          },
          "metadata": {},
          "execution_count": 20
        }
      ]
    },
    {
      "cell_type": "code",
      "source": [
        "print(memory.load_memory_variables({}))"
      ],
      "metadata": {
        "colab": {
          "base_uri": "https://localhost:8080/"
        },
        "id": "LJrJsrz-6sRb",
        "outputId": "15ac5003-768f-4db0-b1af-ea47542c88df"
      },
      "execution_count": null,
      "outputs": [
        {
          "output_type": "stream",
          "name": "stdout",
          "text": [
            "{'chat_history': [HumanMessage(content=\"Find 3 recent papers on quantum computing and explain them to me like I'm 15.\", additional_kwargs={}, response_metadata={}), AIMessage(content='1. \"Quantum computer: an appliance for playing market games\" - This paper talks about how quantum computers can be used in financial markets. Just like how we play video games, these computers can play \"market games\". They can make decisions and strategies that could be better than what we can do now.\\n\\n2. \"From Distributed Quantum Computing to Quantum Internet Computing: an Overview\" - This paper is about how quantum computers are not just single machines, but can be connected together, like computers on the internet. This is called distributed quantum computing. The paper also talks about the progress in this field and how it\\'s leading to something called the \"quantum Internet\".\\n\\n3. \"A Note on Bulk Quantum Turing Machine\" - This paper discusses a specific type of quantum computer called a \"bulk quantum Turing machine\". It\\'s like a normal computer, but it uses quantum mechanics, the science of really small particles, to do its calculations. The paper talks about how this machine can be made more natural and realistic.', additional_kwargs={}, response_metadata={}), HumanMessage(content=\"Find 3 recent papers on quantum computing and explain them to me like I'm 15.\", additional_kwargs={}, response_metadata={}), AIMessage(content='1. \"Quantum computer: an appliance for playing market games\": This paper talks about how quantum computers can be used in financial markets. Just like how we play video games, these computers can play \"market games\". They found that using quantum computers and strategies could give us an advantage in these games.\\n\\n2. \"From Distributed Quantum Computing to Quantum Internet Computing: an Overview\": This paper is about the progress we\\'ve made in quantum computing and quantum networking. It\\'s like we\\'re building a new kind of internet, but instead of regular computers, we\\'re using quantum computers. This new \"quantum internet\" could change the way we do computing.\\n\\n3. \"A Note on Bulk Quantum Turing Machine\": This paper discusses a specific type of quantum computer called a \"bulk quantum Turing machine\". It\\'s like a regular computer, but it uses the principles of quantum mechanics to do its calculations. They\\'ve made a new version of this machine that\\'s more in line with how quantum mechanics works, and they\\'re comparing its abilities to a regular quantum Turing machine.', additional_kwargs={}, response_metadata={}), HumanMessage(content='What did I ask?', additional_kwargs={}, response_metadata={}), AIMessage(content='You asked for the process of answering a question using the tools provided, specifically ArxivSearch.', additional_kwargs={}, response_metadata={})]}\n"
          ]
        }
      ]
    },
    {
      "cell_type": "markdown",
      "source": [
        "## Adding a retriever tool to an Agent"
      ],
      "metadata": {
        "id": "W-T35BRv-pbo"
      }
    },
    {
      "cell_type": "code",
      "source": [
        "from langchain.embeddings import OpenAIEmbeddings\n",
        "from langchain.vectorstores import Chroma\n",
        "\n",
        "embedding_model=OpenAIEmbeddings()\n",
        "\n",
        "vectorstore = Chroma(\n",
        "    collection_name=\"research_memory\",\n",
        "    embedding_function=embedding_model,\n",
        "    persist_directory=\"./chroma_db\"\n",
        ")"
      ],
      "metadata": {
        "id": "y6zw75Dw-_D5"
      },
      "execution_count": null,
      "outputs": []
    },
    {
      "cell_type": "code",
      "source": [
        "def store_arxiv_results(query: str):\n",
        "    client = arxiv.Client()\n",
        "    search = arxiv.Search(query=query, max_results=3)\n",
        "\n",
        "    texts = []\n",
        "    metadatas = []\n",
        "\n",
        "    for result in client.results(search):\n",
        "        title = result.title\n",
        "        summary = result.summary\n",
        "        url = result.entry_id\n",
        "\n",
        "        full_text = f\"{title}\\n\\n{summary}\"\n",
        "        texts.append(full_text)\n",
        "        metadatas.append({\"source\": \"arxiv\", \"title\": title, \"url\": url})\n",
        "\n",
        "    if texts:\n",
        "        vectorstore.add_texts(texts=texts, metadatas=metadatas)\n",
        "        vectorstore.persist()\n",
        "        print(f\"Stored {len(texts)} papers in vector memory.\")\n",
        "    else:\n",
        "        print(\"No results found.\")\n"
      ],
      "metadata": {
        "id": "z03fPBju_UgS"
      },
      "execution_count": null,
      "outputs": []
    },
    {
      "cell_type": "code",
      "source": [
        "store_arxiv_results(\"quantum computing superconducting qubits\")\n",
        "retriever = vectorstore.as_retriever(search_kwargs={\"k\": 3})"
      ],
      "metadata": {
        "colab": {
          "base_uri": "https://localhost:8080/"
        },
        "id": "fnKc3bg_AZRX",
        "outputId": "d59b2d08-447d-4b04-ff98-51df61345fde"
      },
      "execution_count": null,
      "outputs": [
        {
          "output_type": "stream",
          "name": "stdout",
          "text": [
            "Stored 3 papers in vector memory.\n"
          ]
        }
      ]
    },
    {
      "cell_type": "code",
      "source": [
        "retriever_tool=Tool(\n",
        "    name='ResearchMemorySearch',\n",
        "    func=lambda q: \"\\n\\n\".join([doc.page_content for doc in retriever.get_relevant_documents(q)]),\n",
        "    description='Useful for answering academic or technical questions by searching stored research papers in memory.'\n",
        ")"
      ],
      "metadata": {
        "id": "ufamE7RB6vXR"
      },
      "execution_count": null,
      "outputs": []
    },
    {
      "cell_type": "code",
      "source": [
        "memory1=ConversationBufferMemory(memory_key=\"chat_history\",return_messages=True)\n",
        "agent=initialize_agent(\n",
        "    tools=[retriever_tool],\n",
        "    llm=llm,\n",
        "    agent=AgentType.CONVERSATIONAL_REACT_DESCRIPTION,#AgentType.ZERO_SHOT_REACT_DESCRIPTION,#AgentType.CONVERSATIONAL_REACT_DESCRIPTION,\n",
        "    verbose=True,\n",
        "    memory=memory1\n",
        ")"
      ],
      "metadata": {
        "id": "lJ9R0rJjAjyh"
      },
      "execution_count": null,
      "outputs": []
    },
    {
      "cell_type": "code",
      "source": [
        "agent.invoke({\"input\": \"Give me a quick overview of stored research related to quantum entanglement.\"})"
      ],
      "metadata": {
        "colab": {
          "base_uri": "https://localhost:8080/"
        },
        "id": "_Ri_jXCaBM13",
        "outputId": "84cefc6b-0886-4f88-c999-ee99ecf7c815"
      },
      "execution_count": null,
      "outputs": [
        {
          "output_type": "stream",
          "name": "stdout",
          "text": [
            "\n",
            "\n",
            "\u001b[1m> Entering new AgentExecutor chain...\u001b[0m\n",
            "\u001b[32;1m\u001b[1;3mThought: Do I need to use a tool? Yes\n",
            "Action: ResearchMemorySearch\n",
            "Action Input: quantum entanglement\u001b[0m\n",
            "Observation: \u001b[36;1m\u001b[1;3mUniversal quantum computing with superconducting charge qubits\n",
            "\n",
            "Superconducting quantum circuit is a promising system for building quantum\n",
            "computer. With this system we demonstrate the universal quantum computations,\n",
            "including the preparing of initial states, the single-qubit operations, the\n",
            "two-qubit universal gate operations between arbitrary qubits, the multiple\n",
            "pairs of two-qubit gate operations in parallel, the coupling operations on a\n",
            "group of qubits in parallel, the coupling operations on multiple groups of\n",
            "qubits in parallel, the coupling operations on multiple pairs and multiple\n",
            "groups of qubits in parallel. Within available technology, a universal quantum\n",
            "computer consists of more than 50 qubits allowing operations is achievable with\n",
            "the design.\n",
            "\n",
            "Universal quantum computing with superconducting charge qubits\n",
            "\n",
            "Superconducting quantum circuit is a promising system for building quantum\n",
            "computer. With this system we demonstrate the universal quantum computations,\n",
            "including the preparing of initial states, the single-qubit operations, the\n",
            "two-qubit universal gate operations between arbitrary qubits, the multiple\n",
            "pairs of two-qubit gate operations in parallel, the coupling operations on a\n",
            "group of qubits in parallel, the coupling operations on multiple groups of\n",
            "qubits in parallel, the coupling operations on multiple pairs and multiple\n",
            "groups of qubits in parallel. Within available technology, a universal quantum\n",
            "computer consists of more than 50 qubits allowing operations is achievable with\n",
            "the design.\n",
            "\n",
            "Majorana Superconducting Qubit\n",
            "\n",
            "We propose a platform for universal quantum computation that uses\n",
            "conventional $s$-wave superconducting leads to address a topological qubit\n",
            "stored in spatially separated Majorana bound states in a multi-terminal\n",
            "topological superconductor island. Both the manipulation and read-out of this\n",
            "\"Majorana superconducting qubit\" are realized by tunnel couplings between\n",
            "Majorana bound states and the superconducting leads. The ability of turning on\n",
            "and off tunnel couplings on-demand by local gates enables individual qubit\n",
            "addressability while avoiding cross-talk errors. By combining the scalability\n",
            "of superconducting qubit and the robustness of topological qubits, the Majorana\n",
            "superconducting qubit may provide a promising and realistic route towards\n",
            "quantum computation.\u001b[0m\n",
            "Thought:\u001b[32;1m\u001b[1;3mDo I need to use a tool? No\n",
            "AI: Here are some key findings from the stored research related to quantum entanglement:\n",
            "\n",
            "1. Superconducting quantum circuit is a promising system for building a quantum computer. It allows for universal quantum computations, including the preparation of initial states, single-qubit operations, two-qubit universal gate operations between arbitrary qubits, and various parallel operations. With current technology, a universal quantum computer with more than 50 qubits is achievable.\n",
            "\n",
            "2. The \"Majorana superconducting qubit\" is a proposed platform for universal quantum computation. It uses conventional s-wave superconducting leads to address a topological qubit stored in spatially separated Majorana bound states in a multi-terminal topological superconductor island. The ability to turn on and off tunnel couplings on-demand by local gates enables individual qubit addressability while avoiding cross-talk errors. This approach combines the scalability of superconducting qubits with the robustness of topological qubits, providing a promising and realistic route towards quantum computation.\u001b[0m\n",
            "\n",
            "\u001b[1m> Finished chain.\u001b[0m\n"
          ]
        },
        {
          "output_type": "execute_result",
          "data": {
            "text/plain": [
              "{'input': 'Give me a quick overview of stored research related to quantum entanglement.',\n",
              " 'chat_history': [HumanMessage(content='Give me a quick overview of stored research related to quantum entanglement.', additional_kwargs={}, response_metadata={}),\n",
              "  AIMessage(content='Here are some key findings from the stored research related to quantum entanglement:\\n\\n1. Superconducting quantum circuit is a promising system for building a quantum computer. It allows for universal quantum computations, including the preparation of initial states, single-qubit operations, two-qubit universal gate operations between arbitrary qubits, and various parallel operations. With current technology, a universal quantum computer with more than 50 qubits is achievable.\\n\\n2. The \"Majorana superconducting qubit\" is a proposed platform for universal quantum computation. It uses conventional s-wave superconducting leads to address a topological qubit stored in spatially separated Majorana bound states in a multi-terminal topological superconductor island. The ability to turn on and off tunnel couplings on-demand by local gates enables individual qubit addressability while avoiding cross-talk errors. This approach combines the scalability of superconducting qubits with the robustness of topological qubits, providing a promising and realistic route towards quantum computation.', additional_kwargs={}, response_metadata={})],\n",
              " 'output': 'Here are some key findings from the stored research related to quantum entanglement:\\n\\n1. Superconducting quantum circuit is a promising system for building a quantum computer. It allows for universal quantum computations, including the preparation of initial states, single-qubit operations, two-qubit universal gate operations between arbitrary qubits, and various parallel operations. With current technology, a universal quantum computer with more than 50 qubits is achievable.\\n\\n2. The \"Majorana superconducting qubit\" is a proposed platform for universal quantum computation. It uses conventional s-wave superconducting leads to address a topological qubit stored in spatially separated Majorana bound states in a multi-terminal topological superconductor island. The ability to turn on and off tunnel couplings on-demand by local gates enables individual qubit addressability while avoiding cross-talk errors. This approach combines the scalability of superconducting qubits with the robustness of topological qubits, providing a promising and realistic route towards quantum computation.'}"
            ]
          },
          "metadata": {},
          "execution_count": 58
        }
      ]
    },
    {
      "cell_type": "code",
      "source": [
        "agent.invoke({\"input\": \"What did I ask for?\"})"
      ],
      "metadata": {
        "colab": {
          "base_uri": "https://localhost:8080/"
        },
        "id": "ZnobIlnsCRSl",
        "outputId": "63adf0f3-83e7-4526-8f6e-24a8a06efa25"
      },
      "execution_count": null,
      "outputs": [
        {
          "output_type": "stream",
          "name": "stdout",
          "text": [
            "\n",
            "\n",
            "\u001b[1m> Entering new AgentExecutor chain...\u001b[0m\n",
            "\u001b[32;1m\u001b[1;3mThought: Do I need to use a tool? No\n",
            "AI: You asked for a quick overview of stored research related to quantum entanglement.\u001b[0m\n",
            "\n",
            "\u001b[1m> Finished chain.\u001b[0m\n"
          ]
        },
        {
          "output_type": "execute_result",
          "data": {
            "text/plain": [
              "{'input': 'What did I ask for?',\n",
              " 'chat_history': [HumanMessage(content='Give me a quick overview of stored research related to quantum entanglement.', additional_kwargs={}, response_metadata={}),\n",
              "  AIMessage(content='Here are some key findings from the stored research related to quantum entanglement:\\n\\n1. Superconducting quantum circuit is a promising system for building a quantum computer. It allows for universal quantum computations, including the preparation of initial states, single-qubit operations, two-qubit universal gate operations between arbitrary qubits, and various parallel operations. With current technology, a universal quantum computer with more than 50 qubits is achievable.\\n\\n2. The \"Majorana superconducting qubit\" is a proposed platform for universal quantum computation. It uses conventional s-wave superconducting leads to address a topological qubit stored in spatially separated Majorana bound states in a multi-terminal topological superconductor island. The ability to turn on and off tunnel couplings on-demand by local gates enables individual qubit addressability while avoiding cross-talk errors. This approach combines the scalability of superconducting qubits with the robustness of topological qubits, providing a promising and realistic route towards quantum computation.', additional_kwargs={}, response_metadata={}),\n",
              "  HumanMessage(content='What did I ask for?', additional_kwargs={}, response_metadata={}),\n",
              "  AIMessage(content='You asked for a quick overview of stored research related to quantum entanglement.', additional_kwargs={}, response_metadata={})],\n",
              " 'output': 'You asked for a quick overview of stored research related to quantum entanglement.'}"
            ]
          },
          "metadata": {},
          "execution_count": 59
        }
      ]
    },
    {
      "cell_type": "code",
      "source": [
        "print(memory1.load_memory_variables({}))"
      ],
      "metadata": {
        "colab": {
          "base_uri": "https://localhost:8080/"
        },
        "id": "UGKAPodICYei",
        "outputId": "09761e6f-e7c6-420c-eefb-ca599620e7aa"
      },
      "execution_count": null,
      "outputs": [
        {
          "output_type": "stream",
          "name": "stdout",
          "text": [
            "{'chat_history': [HumanMessage(content='Give me a quick overview of stored research related to quantum entanglement.', additional_kwargs={}, response_metadata={}), AIMessage(content='Here are some key findings from the stored research related to quantum entanglement:\\n\\n1. Superconducting quantum circuit is a promising system for building a quantum computer. It allows for universal quantum computations, including the preparation of initial states, single-qubit operations, two-qubit universal gate operations between arbitrary qubits, and various parallel operations. With current technology, a universal quantum computer with more than 50 qubits is achievable.\\n\\n2. The \"Majorana superconducting qubit\" is a proposed platform for universal quantum computation. It uses conventional s-wave superconducting leads to address a topological qubit stored in spatially separated Majorana bound states in a multi-terminal topological superconductor island. The ability to turn on and off tunnel couplings on-demand by local gates enables individual qubit addressability while avoiding cross-talk errors. This approach combines the scalability of superconducting qubits with the robustness of topological qubits, providing a promising and realistic route towards quantum computation.', additional_kwargs={}, response_metadata={}), HumanMessage(content='What did I ask for?', additional_kwargs={}, response_metadata={}), AIMessage(content='You asked for a quick overview of stored research related to quantum entanglement.', additional_kwargs={}, response_metadata={})]}\n"
          ]
        }
      ]
    },
    {
      "cell_type": "code",
      "source": [],
      "metadata": {
        "id": "iL9dDXWMM99N"
      },
      "execution_count": null,
      "outputs": []
    }
  ]
}